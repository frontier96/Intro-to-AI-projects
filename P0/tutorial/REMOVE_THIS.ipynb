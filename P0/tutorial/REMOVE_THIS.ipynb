{
 "cells": [
  {
   "cell_type": "code",
   "execution_count": 1,
   "metadata": {},
   "outputs": [],
   "source": [
    "import autograder"
   ]
  },
  {
   "cell_type": "code",
   "execution_count": 2,
   "metadata": {},
   "outputs": [
    {
     "name": "stdout",
     "output_type": "stream",
     "text": [
      "Starting on 1-27 at 10:37:21\n",
      "\n",
      "Question q1\n",
      "===========\n",
      "\n",
      "Passed a = 1 and b = 1, returning a + b = 2\n",
      "*** PASS: test_cases\\q1\\addition1.test\n",
      "*** \tadd(a,b) returns the sum of a and b\n",
      "Passed a = 2 and b = 3, returning a + b = 5\n",
      "*** PASS: test_cases\\q1\\addition2.test\n",
      "*** \tadd(a,b) returns the sum of a and b\n",
      "Passed a = 10 and b = -2.1, returning a + b = 7.9\n",
      "*** PASS: test_cases\\q1\\addition3.test\n",
      "*** \tadd(a,b) returns the sum of a and b\n",
      "\n",
      "### Question q1: 1/1 ###\n",
      "\n",
      "\n",
      "Question q2\n",
      "===========\n",
      "\n",
      "*** PASS: test_cases\\q2\\food_price1.test\n",
      "*** \tbuyLotsOfFruit correctly computes the cost of the order\n",
      "*** PASS: test_cases\\q2\\food_price2.test\n",
      "*** \tbuyLotsOfFruit correctly computes the cost of the order\n",
      "*** PASS: test_cases\\q2\\food_price3.test\n",
      "*** \tbuyLotsOfFruit correctly computes the cost of the order\n",
      "\n",
      "### Question q2: 1/1 ###\n",
      "\n",
      "\n",
      "Question q3\n",
      "===========\n",
      "\n",
      "Welcome to shop1 fruit shop\n",
      "Welcome to shop2 fruit shop\n",
      "*** FAIL: test_cases\\q3\\select_shop1.test\n",
      "*** \tshopSmart(order, shops) must select the cheapest shop\n",
      "*** \tstudent result: \"None\"\n",
      "*** \tcorrect result: \"<FruitShop: shop1>\"\n",
      "Welcome to shop1 fruit shop\n",
      "Welcome to shop2 fruit shop\n",
      "*** FAIL: test_cases\\q3\\select_shop2.test\n",
      "*** \tshopSmart(order, shops) must select the cheapest shop\n",
      "*** \tstudent result: \"None\"\n",
      "*** \tcorrect result: \"<FruitShop: shop2>\"\n",
      "Welcome to shop1 fruit shop\n",
      "Welcome to shop2 fruit shop\n",
      "Welcome to shop3 fruit shop\n",
      "*** FAIL: test_cases\\q3\\select_shop3.test\n",
      "*** \tshopSmart(order, shops) must select the cheapest shop\n",
      "*** \tstudent result: \"None\"\n",
      "*** \tcorrect result: \"<FruitShop: shop3>\"\n",
      "*** Tests failed.\n",
      "\n",
      "### Question q3: 0/1 ###\n",
      "\n",
      "\n",
      "Finished at 10:37:21\n",
      "\n",
      "Provisional grades\n",
      "==================\n",
      "Question q1: 1/1\n",
      "Question q2: 1/1\n",
      "Question q3: 0/1\n",
      "------------------\n",
      "Total: 2/3\n",
      "\n",
      "Your grades are NOT yet registered.  To register your grades, make sure\n",
      "to follow your instructor's guidelines to receive credit on your project.\n",
      "\n"
     ]
    }
   ],
   "source": [
    "run autograder"
   ]
  },
  {
   "cell_type": "code",
   "execution_count": 3,
   "metadata": {},
   "outputs": [
    {
     "ename": "TypeError",
     "evalue": "'<' not supported between instances of 'NoneType' and 'int'",
     "output_type": "error",
     "traceback": [
      "\u001b[1;31m---------------------------------------------------------------------------\u001b[0m",
      "\u001b[1;31mTypeError\u001b[0m                                 Traceback (most recent call last)",
      "\u001b[1;32m<ipython-input-3-4b01ae171ef1>\u001b[0m in \u001b[0;36m<module>\u001b[1;34m\u001b[0m\n\u001b[1;32m----> 1\u001b[1;33m \u001b[1;32mNone\u001b[0m \u001b[1;33m<\u001b[0m \u001b[1;36m100\u001b[0m\u001b[1;33m\u001b[0m\u001b[1;33m\u001b[0m\u001b[0m\n\u001b[0m",
      "\u001b[1;31mTypeError\u001b[0m: '<' not supported between instances of 'NoneType' and 'int'"
     ]
    }
   ],
   "source": [
    "None < 100"
   ]
  },
  {
   "cell_type": "code",
   "execution_count": 8,
   "metadata": {},
   "outputs": [
    {
     "name": "stdout",
     "output_type": "stream",
     "text": [
      "none\n"
     ]
    }
   ],
   "source": [
    "if None == None:\n",
    "    print('none')\n",
    "else:\n",
    "    print ('yes')"
   ]
  },
  {
   "cell_type": "code",
   "execution_count": null,
   "metadata": {},
   "outputs": [],
   "source": []
  }
 ],
 "metadata": {
  "kernelspec": {
   "display_name": "Python 3",
   "language": "python",
   "name": "python3"
  },
  "language_info": {
   "codemirror_mode": {
    "name": "ipython",
    "version": 3
   },
   "file_extension": ".py",
   "mimetype": "text/x-python",
   "name": "python",
   "nbconvert_exporter": "python",
   "pygments_lexer": "ipython3",
   "version": "3.7.5"
  }
 },
 "nbformat": 4,
 "nbformat_minor": 2
}
